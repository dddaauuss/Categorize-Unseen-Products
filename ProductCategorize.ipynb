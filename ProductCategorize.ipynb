{
 "cells": [
  {
   "cell_type": "code",
   "execution_count": 1,
   "metadata": {},
   "outputs": [
    {
     "name": "stdout",
     "output_type": "stream",
     "text": [
      "WARNING:tensorflow:From d:\\anacondapython\\envs\\AI07_GPU\\lib\\site-packages\\keras\\src\\losses.py:2976: The name tf.losses.sparse_softmax_cross_entropy is deprecated. Please use tf.compat.v1.losses.sparse_softmax_cross_entropy instead.\n",
      "\n"
     ]
    }
   ],
   "source": [
    "# importing packages\n",
    "import pandas as pd \n",
    "import numpy as np \n",
    "import tensorflow as tf \n",
    "from tensorflow import keras \n",
    "import matplotlib.pyplot as plt \n",
    "import sklearn \n",
    "import os,pickle"
   ]
  },
  {
   "cell_type": "code",
   "execution_count": 2,
   "metadata": {},
   "outputs": [],
   "source": [
    "# Data loading\n",
    "df = pd.read_csv(r'D:\\SHRDC\\Assesment 3 Classification\\ecommerceDataset.csv')"
   ]
  },
  {
   "cell_type": "code",
   "execution_count": 3,
   "metadata": {},
   "outputs": [
    {
     "data": {
      "text/plain": [
       "Index(['Household', 'Paper Plane Design Framed Wall Hanging Motivational Office Decor Art Prints (8.7 X 8.7 inch) - Set of 4 Painting made up in synthetic frame with uv textured print which gives multi effects and attracts towards it. This is an special series of paintings which makes your wall very beautiful and gives a royal touch. This painting is ready to hang, you would be proud to possess this unique painting that is a niche apart. We use only the most modern and efficient printing technology on our prints, with only the and inks and precision epson, roland and hp printers. This innovative hd printing technique results in durable and spectacular looking prints of the highest that last a lifetime. We print solely with top-notch 100% inks, to achieve brilliant and true colours. Due to their high level of uv resistance, our prints retain their beautiful colours for many years. Add colour and style to your living space with this digitally printed painting. Some are for pleasure and some for eternal bliss.so bring home this elegant print that is lushed with rich colors that makes it nothing but sheer elegance to be to your friends and family.it would be treasured forever by whoever your lucky recipient is. Liven up your place with these intriguing paintings that are high definition hd graphic digital prints for home, office or any room.'], dtype='object')"
      ]
     },
     "execution_count": 3,
     "metadata": {},
     "output_type": "execute_result"
    }
   ],
   "source": [
    "df.columns"
   ]
  },
  {
   "cell_type": "code",
   "execution_count": 4,
   "metadata": {},
   "outputs": [
    {
     "name": "stdout",
     "output_type": "stream",
     "text": [
      "Index(['Household', 'Product_Description'], dtype='object')\n"
     ]
    }
   ],
   "source": [
    "# Rename the second column\n",
    "df.rename(columns={df.columns[1]: 'Product_Description'}, inplace=True)\n",
    "\n",
    "# Verify the column names after renaming\n",
    "print(df.columns)"
   ]
  },
  {
   "cell_type": "code",
   "execution_count": 5,
   "metadata": {},
   "outputs": [
    {
     "name": "stdout",
     "output_type": "stream",
     "text": [
      "Shape of the data:  (50424, 2)\n",
      "<class 'pandas.core.frame.DataFrame'>\n",
      "RangeIndex: 50424 entries, 0 to 50423\n",
      "Data columns (total 2 columns):\n",
      " #   Column               Non-Null Count  Dtype \n",
      "---  ------               --------------  ----- \n",
      " 0   Household            50424 non-null  object\n",
      " 1   Product_Description  50423 non-null  object\n",
      "dtypes: object(2)\n",
      "memory usage: 788.0+ KB\n",
      "Data info:\n",
      "   None\n",
      "Data description:\n",
      "                       count unique  \\\n",
      "Household            50424      4   \n",
      "Product_Description  50423  27801   \n",
      "\n",
      "                                                                   top   freq  \n",
      "Household                                                    Household  19312  \n",
      "Product_Description  Think & Grow Rich About the Author NAPOLEON HI...     30  \n",
      "Example data:\n",
      "     Household                                Product_Description\n",
      "0  Household  SAF 'Floral' Framed Painting (Wood, 30 inch x ...\n"
     ]
    }
   ],
   "source": [
    "# Data inspection\n",
    "print('Shape of the data: ',df.shape)\n",
    "print('Data info:\\n  ',df.info())\n",
    "print('Data description:\\n ',df.describe().transpose())\n",
    "print('Example data:\\n ',df.head(1))"
   ]
  },
  {
   "cell_type": "code",
   "execution_count": 6,
   "metadata": {},
   "outputs": [
    {
     "name": "stdout",
     "output_type": "stream",
     "text": [
      "Household              0\n",
      "Product_Description    1\n",
      "dtype: int64\n",
      "--------------------\n",
      "22622\n"
     ]
    }
   ],
   "source": [
    "# Data Cleaning\n",
    "print(df.isna().sum())\n",
    "print('--------------------')\n",
    "print(df.duplicated().sum())"
   ]
  },
  {
   "cell_type": "code",
   "execution_count": 7,
   "metadata": {},
   "outputs": [],
   "source": [
    "# Drop rows with missing values in the 'Product_Description' column\n",
    "df = df.dropna(subset=['Product_Description'])"
   ]
  },
  {
   "cell_type": "code",
   "execution_count": 8,
   "metadata": {},
   "outputs": [
    {
     "name": "stdout",
     "output_type": "stream",
     "text": [
      "Household              0\n",
      "Product_Description    0\n",
      "dtype: int64\n"
     ]
    }
   ],
   "source": [
    "print(df.isna().sum())"
   ]
  },
  {
   "cell_type": "code",
   "execution_count": 9,
   "metadata": {},
   "outputs": [],
   "source": [
    "# Data preprocessing\n",
    "# Split the data info features and labels\n",
    "features = df['Product_Description'].values \n",
    "labels = df['Household'].values"
   ]
  },
  {
   "cell_type": "code",
   "execution_count": 10,
   "metadata": {},
   "outputs": [],
   "source": [
    "# Convert the categorical label into integer - label encoding \n",
    "from sklearn.preprocessing import LabelEncoder\n",
    "label_encoder = LabelEncoder()\n",
    "labels_encoded = label_encoder.fit_transform(labels)"
   ]
  },
  {
   "cell_type": "code",
   "execution_count": 11,
   "metadata": {},
   "outputs": [],
   "source": [
    "# Perform train test split\n",
    "from sklearn.model_selection import train_test_split\n",
    "seed = 42\n",
    "X_train,X_test,y_train,y_test = train_test_split(features,labels_encoded,train_size=0.8,random_state=seed)"
   ]
  },
  {
   "cell_type": "code",
   "execution_count": 12,
   "metadata": {},
   "outputs": [],
   "source": [
    "# Process the input texts\n",
    "#(A) Tokenization\n",
    "#Define parameters for the following process\n",
    "vocab_size = 20000\n",
    "oov_token = '<OOV>'\n",
    "max_length = 200\n",
    "embedding_dim = 64\n",
    "\n",
    "#(B) Define the Tokenizer object\n",
    "tokenizer = keras.preprocessing.text.Tokenizer(num_words=vocab_size,split=' ',oov_token=oov_token)\n",
    "tokenizer.fit_on_texts(X_train)"
   ]
  },
  {
   "cell_type": "code",
   "execution_count": 13,
   "metadata": {},
   "outputs": [
    {
     "name": "stdout",
     "output_type": "stream",
     "text": [
      "{'<OOV>': 1, 'the': 2, 'and': 3, 'of': 4, 'to': 5, 'a': 6, 'for': 7, 'in': 8, 'with': 9, 'is': 10}\n"
     ]
    }
   ],
   "source": [
    "word_index = tokenizer.word_index\n",
    "print(dict(list(word_index.items())[0:10]))"
   ]
  },
  {
   "cell_type": "code",
   "execution_count": 14,
   "metadata": {},
   "outputs": [],
   "source": [
    "#(C) Transform texts into tokens\n",
    "X_train_tokens = tokenizer.texts_to_sequences(X_train)\n",
    "X_test_tokens = tokenizer.texts_to_sequences(X_test)"
   ]
  },
  {
   "cell_type": "code",
   "execution_count": 15,
   "metadata": {},
   "outputs": [],
   "source": [
    "#(D)Perform padding\n",
    "X_train_padded = keras.utils.pad_sequences(X_train_tokens,maxlen=max_length,padding='post',truncating='post')\n",
    "X_test_padded = keras.utils.pad_sequences(X_test_tokens,maxlen=max_length,padding='post',truncating='post')"
   ]
  },
  {
   "cell_type": "code",
   "execution_count": 16,
   "metadata": {},
   "outputs": [
    {
     "name": "stdout",
     "output_type": "stream",
     "text": [
      "[14712  1542  4579  7452  1021   378 14712  4579  7452  1542  1055  1021\n",
      "     9  5826  1690   573   679   673   290  4842  1021     3  1332   192\n",
      "   290 14712    26    88     6   248  4579  7452    16    31   241    12\n",
      "    24  1185  5972   756   874    14  7452    26   112  2532    88     7\n",
      "     2     1    38     5    37 12336  1055    62 10741     0     0     0\n",
      "     0     0     0     0     0     0     0     0     0     0     0     0\n",
      "     0     0     0     0     0     0     0     0     0     0     0     0\n",
      "     0     0     0     0     0     0     0     0     0     0     0     0\n",
      "     0     0     0     0     0     0     0     0     0     0     0     0\n",
      "     0     0     0     0     0     0     0     0     0     0     0     0\n",
      "     0     0     0     0     0     0     0     0     0     0     0     0\n",
      "     0     0     0     0     0     0     0     0     0     0     0     0\n",
      "     0     0     0     0     0     0     0     0     0     0     0     0\n",
      "     0     0     0     0     0     0     0     0     0     0     0     0\n",
      "     0     0     0     0     0     0     0     0     0     0     0     0\n",
      "     0     0     0     0     0     0     0     0     0     0     0     0\n",
      "     0     0     0     0     0     0     0     0]\n",
      "-----------------------\n",
      "callas bamboo bathtub caddy tray brown callas bathtub caddy bamboo bath tray with extending sides reading rack tablet holder cellphone tray and wine glass holder callas has designed a unique bathtub caddy that will give you an ultimate relaxation everything within this caddy has been ergonomically designed for the <OOV> easy to use simplest bath time enhancement ? ? ? ? ? ? ? ? ? ? ? ? ? ? ? ? ? ? ? ? ? ? ? ? ? ? ? ? ? ? ? ? ? ? ? ? ? ? ? ? ? ? ? ? ? ? ? ? ? ? ? ? ? ? ? ? ? ? ? ? ? ? ? ? ? ? ? ? ? ? ? ? ? ? ? ? ? ? ? ? ? ? ? ? ? ? ? ? ? ? ? ? ? ? ? ? ? ? ? ? ? ? ? ? ? ? ? ? ? ? ? ? ? ? ? ? ? ? ? ? ? ? ? ? ? ? ? ? ? ? ? ? ? ? ? ? ? ? ? ? ? ? ?\n"
     ]
    }
   ],
   "source": [
    "reverse_word_index = dict([(value,key) for (key,value) in word_index.items()])\n",
    "\n",
    "def decode_tokens(tokens):\n",
    "    return ' '.join([reverse_word_index.get(i, '?') for i in tokens])\n",
    "\n",
    "print(X_train_padded[2])\n",
    "print('-----------------------')\n",
    "print(decode_tokens(X_train_padded[2]))"
   ]
  },
  {
   "cell_type": "code",
   "execution_count": 17,
   "metadata": {},
   "outputs": [
    {
     "name": "stdout",
     "output_type": "stream",
     "text": [
      "WARNING:tensorflow:From d:\\anacondapython\\envs\\AI07_GPU\\lib\\site-packages\\keras\\src\\backend.py:873: The name tf.get_default_graph is deprecated. Please use tf.compat.v1.get_default_graph instead.\n",
      "\n",
      "Model: \"sequential\"\n",
      "_________________________________________________________________\n",
      " Layer (type)                Output Shape              Param #   \n",
      "=================================================================\n",
      " embedding (Embedding)       (None, None, 64)          1280000   \n",
      "                                                                 \n",
      " bidirectional (Bidirection  (None, 96)                43392     \n",
      " al)                                                             \n",
      "                                                                 \n",
      " dropout (Dropout)           (None, 96)                0         \n",
      "                                                                 \n",
      " dense (Dense)               (None, 48)                4656      \n",
      "                                                                 \n",
      " dropout_1 (Dropout)         (None, 48)                0         \n",
      "                                                                 \n",
      " dense_1 (Dense)             (None, 4)                 196       \n",
      "                                                                 \n",
      "=================================================================\n",
      "Total params: 1328244 (5.07 MB)\n",
      "Trainable params: 1328244 (5.07 MB)\n",
      "Non-trainable params: 0 (0.00 Byte)\n",
      "_________________________________________________________________\n"
     ]
    }
   ],
   "source": [
    "# Model development\n",
    "#(A) Create a sequential model, then start with embedding layer\n",
    "model = keras.Sequential()\n",
    "model.add(keras.layers.Embedding(vocab_size,embedding_dim))\n",
    "#(B) Build RNN model, use bidirectional LSTM\n",
    "model.add(keras.layers.Bidirectional(keras.layers.LSTM(48)))\n",
    "model.add(keras.layers.Dropout(0.5))  # Add dropout layer\n",
    "model.add(keras.layers.Dense(48, activation='relu'))\n",
    "model.add(keras.layers.Dropout(0.5))  # Add dropout layer\n",
    "model.add(keras.layers.Dense(len(np.unique(labels)), activation='softmax'))\n",
    "model.summary()"
   ]
  },
  {
   "cell_type": "code",
   "execution_count": 34,
   "metadata": {},
   "outputs": [
    {
     "data": {
      "image/png": "[encoded data removed]",
      "text/plain": [
       "<IPython.core.display.Image object>"
      ]
     },
     "execution_count": 34,
     "metadata": {},
     "output_type": "execute_result"
    }
   ],
   "source": [
    "keras.utils.plot_model(model)"
   ]
  },
  {
   "cell_type": "code",
   "execution_count": 18,
   "metadata": {},
   "outputs": [
    {
     "name": "stdout",
     "output_type": "stream",
     "text": [
      "WARNING:tensorflow:From d:\\anacondapython\\envs\\AI07_GPU\\lib\\site-packages\\keras\\src\\optimizers\\__init__.py:309: The name tf.train.Optimizer is deprecated. Please use tf.compat.v1.train.Optimizer instead.\n",
      "\n"
     ]
    }
   ],
   "source": [
    "# Compile the model\n",
    "model.compile(optimizer='adam',loss='sparse_categorical_crossentropy',metrics=['accuracy'])"
   ]
  },
  {
   "cell_type": "code",
   "execution_count": 19,
   "metadata": {},
   "outputs": [],
   "source": [
    "# Callbacks\n",
    "import datetime\n",
    "from tensorflow.keras.callbacks import EarlyStopping, TensorBoard\n",
    "max_epoch = 20\n",
    "early_stopping = keras.callbacks.EarlyStopping(patience=3)\n",
    "PATH = os.getcwd()\n",
    "logpath = os.path.join(PATH, \"tensorboard_log\",datetime.datetime.now().strftime(\"%Y%m%d-%H%M%S\"))\n",
    "tb = TensorBoard(logpath)"
   ]
  },
  {
   "cell_type": "code",
   "execution_count": 20,
   "metadata": {},
   "outputs": [
    {
     "name": "stdout",
     "output_type": "stream",
     "text": [
      "Epoch 1/20\n",
      "WARNING:tensorflow:From d:\\anacondapython\\envs\\AI07_GPU\\lib\\site-packages\\keras\\src\\utils\\tf_utils.py:492: The name tf.ragged.RaggedTensorValue is deprecated. Please use tf.compat.v1.ragged.RaggedTensorValue instead.\n",
      "\n",
      "WARNING:tensorflow:From d:\\anacondapython\\envs\\AI07_GPU\\lib\\site-packages\\keras\\src\\engine\\base_layer_utils.py:384: The name tf.executing_eagerly_outside_functions is deprecated. Please use tf.compat.v1.executing_eagerly_outside_functions instead.\n",
      "\n",
      "1261/1261 [==============================] - 119s 90ms/step - loss: 0.2931 - accuracy: 0.9056 - val_loss: 0.0980 - val_accuracy: 0.9739\n",
      "Epoch 2/20\n",
      "1261/1261 [==============================] - 111s 88ms/step - loss: 0.0749 - accuracy: 0.9827 - val_loss: 0.1055 - val_accuracy: 0.9744\n",
      "Epoch 3/20\n",
      "1261/1261 [==============================] - 115s 91ms/step - loss: 0.0440 - accuracy: 0.9896 - val_loss: 0.1033 - val_accuracy: 0.9782\n",
      "Epoch 4/20\n",
      "1261/1261 [==============================] - 113s 89ms/step - loss: 0.0282 - accuracy: 0.9929 - val_loss: 0.1066 - val_accuracy: 0.9778\n"
     ]
    }
   ],
   "source": [
    "# Model training\n",
    "history = model.fit(X_train_padded,y_train,validation_data=[X_test_padded,y_test],\n",
    "                    epochs=max_epoch,callbacks=[early_stopping,tb],batch_size=32)"
   ]
  },
  {
   "cell_type": "code",
   "execution_count": 21,
   "metadata": {},
   "outputs": [
    {
     "data": {
      "image/png": "[encoded data removed]",
      "text/plain": [
       "<Figure size 640x480 with 1 Axes>"
      ]
     },
     "metadata": {},
     "output_type": "display_data"
    }
   ],
   "source": [
    "#Plot graph to display training result\n",
    "#(A) Loss graph\n",
    "plt.figure()\n",
    "plt.plot(history.history['loss'])\n",
    "plt.plot(history.history['val_loss'])\n",
    "plt.legend(['Training Loss', 'Validation Loss'])\n",
    "plt.show()"
   ]
  },
  {
   "cell_type": "code",
   "execution_count": 22,
   "metadata": {},
   "outputs": [
    {
     "data": {
      "image/png": "[encoded data removed]",
      "text/plain": [
       "<Figure size 640x480 with 1 Axes>"
      ]
     },
     "metadata": {},
     "output_type": "display_data"
    }
   ],
   "source": [
    "#(B) Accuracy graph\n",
    "plt.figure()\n",
    "plt.plot(history.history['accuracy'])\n",
    "plt.plot(history.history['val_accuracy'])\n",
    "plt.legend(['Training Accuracy', 'Validation Accuracy'])\n",
    "plt.show()"
   ]
  },
  {
   "cell_type": "code",
   "execution_count": 44,
   "metadata": {},
   "outputs": [
    {
     "name": "stdout",
     "output_type": "stream",
     "text": [
      "1261/1261 [==============================] - 25s 20ms/step\n",
      "316/316 [==============================] - 6s 19ms/step\n",
      "Classification Report (Training Set):\n",
      "               precision    recall  f1-score   support\n",
      "\n",
      "           0       1.00      0.99      1.00      9485\n",
      "           1       0.99      1.00      1.00      6911\n",
      "           2       0.99      1.00      1.00      8509\n",
      "           3       1.00      1.00      1.00     15433\n",
      "\n",
      "    accuracy                           1.00     40338\n",
      "   macro avg       1.00      1.00      1.00     40338\n",
      "weighted avg       1.00      1.00      1.00     40338\n",
      "\n",
      "Classification Report (Validation Set):\n",
      "               precision    recall  f1-score   support\n",
      "\n",
      "           0       0.98      0.97      0.98      2335\n",
      "           1       0.98      0.98      0.98      1759\n",
      "           2       0.97      0.97      0.97      2112\n",
      "           3       0.98      0.98      0.98      3879\n",
      "\n",
      "    accuracy                           0.98     10085\n",
      "   macro avg       0.98      0.98      0.98     10085\n",
      "weighted avg       0.98      0.98      0.98     10085\n",
      "\n",
      "Confusion Matrix (Validation Set):\n",
      " [[2274   11   23   27]\n",
      " [   7 1728    3   21]\n",
      " [  11    9 2057   35]\n",
      " [  20   16   41 3802]]\n"
     ]
    }
   ],
   "source": [
    "from sklearn.metrics import classification_report,confusion_matrix\n",
    "\n",
    "# Assuming model.predict returns predicted labels\n",
    "y_pred_train = model.predict(X_train_padded)\n",
    "y_pred_val = model.predict(X_test_padded)\n",
    "\n",
    "# Convert predicted probabilities to labels\n",
    "y_pred_train_labels = np.argmax(y_pred_train, axis=1)\n",
    "y_pred_val_labels = np.argmax(y_pred_val, axis=1)\n",
    "\n",
    "# Print classification report for training set\n",
    "print(\"Classification Report (Training Set):\\n\", classification_report(y_train, y_pred_train_labels))\n",
    "\n",
    "# Print classification report for validation set\n",
    "print(\"Classification Report (Validation Set):\\n\", classification_report(y_test, y_pred_val_labels))\n",
    "\n",
    "# Print confusion matrix for validation set\n",
    "print(\"Confusion Matrix (Validation Set):\\n\", confusion_matrix(y_test, y_pred_val_labels))"
   ]
  },
  {
   "cell_type": "code",
   "execution_count": 35,
   "metadata": {},
   "outputs": [],
   "source": [
    "#12. Model deployment\n",
    "#(A) Get an example input \n",
    "test_string = r\" Introducing our captivating Story Book, a literary masterpiece that transcends age boundaries. Immerse yourself in a world of enchanting tales, where imagination knows no limits\"\n",
    "\n",
    "#(B) Convert the text into tokens\n",
    "test_tokens = tokenizer.texts_to_sequences(test_string)"
   ]
  },
  {
   "cell_type": "code",
   "execution_count": 36,
   "metadata": {},
   "outputs": [],
   "source": [
    "#Remove Nan values\n",
    "def remove_space(token):\n",
    "    temp = []\n",
    "    for i in token:\n",
    "        if i!=[]:\n",
    "            temp.append(i[0])\n",
    "    return temp\n",
    "\n",
    "test_token_processed = np.expand_dims(np.array(remove_space(test_tokens)), axis=0)"
   ]
  },
  {
   "cell_type": "code",
   "execution_count": 37,
   "metadata": {},
   "outputs": [],
   "source": [
    "#(C) Perform padding and truncating\n",
    "test_token_padded = keras.preprocessing.sequence.pad_sequences(test_token_processed,maxlen=max_length,\n",
    "                                                               padding='post', truncating='post')"
   ]
  },
  {
   "cell_type": "code",
   "execution_count": 38,
   "metadata": {},
   "outputs": [
    {
     "name": "stdout",
     "output_type": "stream",
     "text": [
      "1/1 [==============================] - 0s 55ms/step\n"
     ]
    }
   ],
   "source": [
    "#(D) Perform prediction using the model\n",
    "y_pred = np.argmax(model.predict(test_token_padded))"
   ]
  },
  {
   "cell_type": "code",
   "execution_count": 39,
   "metadata": {},
   "outputs": [
    {
     "name": "stdout",
     "output_type": "stream",
     "text": [
      "['Books']\n"
     ]
    }
   ],
   "source": [
    "#(E) Use label encoder to find the class\n",
    "class_prediction = label_encoder.inverse_transform(y_pred.flatten())\n",
    "print(class_prediction)"
   ]
  },
  {
   "cell_type": "code",
   "execution_count": 29,
   "metadata": {},
   "outputs": [
    {
     "name": "stdout",
     "output_type": "stream",
     "text": [
      "d:\\SHRDC\\Assesment 3 Classification\\assesment3\\ProductCato\n"
     ]
    }
   ],
   "source": [
    "# Save important components so that we can deploy the NLP model in other aplications\n",
    "#(A) Tokenizer\n",
    "os.chdir(r\"D:\\SHRDC\\Assesment 3 Classification\\assesment3\\ProductCato\")\n",
    "PATH = os.getcwd()\n",
    "print(PATH)"
   ]
  },
  {
   "cell_type": "code",
   "execution_count": 30,
   "metadata": {},
   "outputs": [],
   "source": [
    "tokenizer_save_path = os.path.join(PATH,\"tokenizer.pkl\")\n",
    "with open(tokenizer_save_path,\"wb\") as f:\n",
    "    pickle.dump(tokenizer,f)"
   ]
  },
  {
   "cell_type": "code",
   "execution_count": 31,
   "metadata": {},
   "outputs": [],
   "source": [
    "#(B) Label encoder \n",
    "label_encoder_save_path = os.path.join(PATH,\"label_encoder.pkl\")\n",
    "with open(label_encoder_save_path,'wb') as f:\n",
    "    pickle.dump(label_encoder,f)"
   ]
  },
  {
   "cell_type": "code",
   "execution_count": 32,
   "metadata": {},
   "outputs": [
    {
     "name": "stdout",
     "output_type": "stream",
     "text": [
      "INFO:tensorflow:Assets written to: d:\\SHRDC\\Assesment 3 Classification\\assesment3\\ProductCato\\nlp_model\\assets\n"
     ]
    },
    {
     "name": "stderr",
     "output_type": "stream",
     "text": [
      "INFO:tensorflow:Assets written to: d:\\SHRDC\\Assesment 3 Classification\\assesment3\\ProductCato\\nlp_model\\assets\n"
     ]
    }
   ],
   "source": [
    "#(C) Save the Keras model\n",
    "model_save_path = os.path.join(PATH, \"nlp_model\")\n",
    "keras.models.save_model(model,model_save_path)"
   ]
  },
  {
   "cell_type": "code",
   "execution_count": 33,
   "metadata": {},
   "outputs": [],
   "source": [
    "# Save in json format\n",
    "import json\n",
    "\n",
    "tokenizer_save_path = os.path.join(PATH, \"tokenizer.json\")\n",
    "\n",
    "# Serialize the tokenizer to a JSON-formatted string\n",
    "tokenizer_json = tokenizer.to_json()\n",
    "\n",
    "# Save the JSON-formatted string to a file\n",
    "with open(tokenizer_save_path, \"w\", encoding=\"utf-8\") as json_file:\n",
    "    json_file.write(tokenizer_json)\n"
   ]
  },
  {
   "cell_type": "code",
   "execution_count": null,
   "metadata": {},
   "outputs": [],
   "source": []
  }
 ],
 "metadata": {
  "kernelspec": {
   "display_name": "AI07_GPU",
   "language": "python",
   "name": "python3"
  },
  "language_info": {
   "codemirror_mode": {
    "name": "ipython",
    "version": 3
   },
   "file_extension": ".py",
   "mimetype": "text/x-python",
   "name": "python",
   "nbconvert_exporter": "python",
   "pygments_lexer": "ipython3",
   "version": "3.9.18"
  }
 },
 "nbformat": 4,
 "nbformat_minor": 2
}
